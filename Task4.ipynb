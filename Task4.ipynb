{
 "cells": [
  {
   "cell_type": "code",
   "execution_count": 68,
   "metadata": {},
   "outputs": [],
   "source": [
    "import pandas as pd\n",
    "import numpy as np\n",
    "from sklearn.feature_extraction.text import TfidfVectorizer\n",
    "from sklearn.metrics.pairwise import cosine_similarity\n",
    "from transformers import pipeline\n",
    "import gradio as gr"
   ]
  },
  {
   "cell_type": "code",
   "execution_count": 69,
   "metadata": {},
   "outputs": [
    {
     "name": "stderr",
     "output_type": "stream",
     "text": [
      "<>:1: SyntaxWarning: invalid escape sequence '\\p'\n",
      "<>:1: SyntaxWarning: invalid escape sequence '\\p'\n",
      "C:\\Users\\hardi\\AppData\\Local\\Temp\\ipykernel_9804\\2665997817.py:1: SyntaxWarning: invalid escape sequence '\\p'\n",
      "  data=pd.read_excel('.\\paragraphs.xlsx')\n"
     ]
    }
   ],
   "source": [
    "data=pd.read_excel('.\\paragraphs.xlsx')\n",
    "x=data.columns[2]\n",
    "paragraphs=list(data[x])\n",
    "paragraphs.append(x)"
   ]
  },
  {
   "cell_type": "code",
   "execution_count": 70,
   "metadata": {},
   "outputs": [
    {
     "name": "stderr",
     "output_type": "stream",
     "text": [
      "<>:1: SyntaxWarning: invalid escape sequence '\\q'\n",
      "<>:1: SyntaxWarning: invalid escape sequence '\\q'\n",
      "C:\\Users\\hardi\\AppData\\Local\\Temp\\ipykernel_9804\\529053342.py:1: SyntaxWarning: invalid escape sequence '\\q'\n",
      "  queries=pd.read_excel('.\\queries.xlsx')\n"
     ]
    },
    {
     "data": {
      "text/html": [
       "<div>\n",
       "<style scoped>\n",
       "    .dataframe tbody tr th:only-of-type {\n",
       "        vertical-align: middle;\n",
       "    }\n",
       "\n",
       "    .dataframe tbody tr th {\n",
       "        vertical-align: top;\n",
       "    }\n",
       "\n",
       "    .dataframe thead th {\n",
       "        text-align: right;\n",
       "    }\n",
       "</style>\n",
       "<table border=\"1\" class=\"dataframe\">\n",
       "  <thead>\n",
       "    <tr style=\"text-align: right;\">\n",
       "      <th></th>\n",
       "      <th>What is the  parts of the trophy?</th>\n",
       "      <th>True</th>\n",
       "      <th>['- the cup itself, plus a lid and a base']</th>\n",
       "    </tr>\n",
       "  </thead>\n",
       "  <tbody>\n",
       "    <tr>\n",
       "      <th>0</th>\n",
       "      <td>If you need a date of four days less, what do ...</td>\n",
       "      <td>True</td>\n",
       "      <td>['-4']</td>\n",
       "    </tr>\n",
       "    <tr>\n",
       "      <th>1</th>\n",
       "      <td>What was Hanover's attitude toward Austria?</td>\n",
       "      <td>True</td>\n",
       "      <td>['-belligerent Hanover']</td>\n",
       "    </tr>\n",
       "    <tr>\n",
       "      <th>2</th>\n",
       "      <td>What is an example of a suffix used by Old Eng...</td>\n",
       "      <td>True</td>\n",
       "      <td>['-de']</td>\n",
       "    </tr>\n",
       "    <tr>\n",
       "      <th>3</th>\n",
       "      <td>The Modern English ending -'s is derived from ...</td>\n",
       "      <td>True</td>\n",
       "      <td>['-es']</td>\n",
       "    </tr>\n",
       "    <tr>\n",
       "      <th>4</th>\n",
       "      <td>How are the games broadcast now?</td>\n",
       "      <td>True</td>\n",
       "      <td>[', FA Cup matches are shown live by ITV acros...</td>\n",
       "    </tr>\n",
       "  </tbody>\n",
       "</table>\n",
       "</div>"
      ],
      "text/plain": [
       "                   What is the  parts of the trophy?  True  \\\n",
       "0  If you need a date of four days less, what do ...  True   \n",
       "1        What was Hanover's attitude toward Austria?  True   \n",
       "2  What is an example of a suffix used by Old Eng...  True   \n",
       "3  The Modern English ending -'s is derived from ...  True   \n",
       "4                   How are the games broadcast now?  True   \n",
       "\n",
       "         ['- the cup itself, plus a lid and a base']  \n",
       "0                                             ['-4']  \n",
       "1                           ['-belligerent Hanover']  \n",
       "2                                            ['-de']  \n",
       "3                                            ['-es']  \n",
       "4  [', FA Cup matches are shown live by ITV acros...  "
      ]
     },
     "execution_count": 70,
     "metadata": {},
     "output_type": "execute_result"
    }
   ],
   "source": [
    "queries=pd.read_excel('.\\queries.xlsx')\n",
    "queries.loc[len(queries.index)]=queries.columns\n",
    "queries.head()"
   ]
  },
  {
   "cell_type": "code",
   "execution_count": 71,
   "metadata": {},
   "outputs": [
    {
     "data": {
      "text/html": [
       "<div>\n",
       "<style scoped>\n",
       "    .dataframe tbody tr th:only-of-type {\n",
       "        vertical-align: middle;\n",
       "    }\n",
       "\n",
       "    .dataframe tbody tr th {\n",
       "        vertical-align: top;\n",
       "    }\n",
       "\n",
       "    .dataframe thead th {\n",
       "        text-align: right;\n",
       "    }\n",
       "</style>\n",
       "<table border=\"1\" class=\"dataframe\">\n",
       "  <thead>\n",
       "    <tr style=\"text-align: right;\">\n",
       "      <th></th>\n",
       "      <th>query</th>\n",
       "      <th>possiblity</th>\n",
       "      <th>Result</th>\n",
       "    </tr>\n",
       "  </thead>\n",
       "  <tbody>\n",
       "    <tr>\n",
       "      <th>0</th>\n",
       "      <td>If you need a date of four days less, what do ...</td>\n",
       "      <td>True</td>\n",
       "      <td>['-4']</td>\n",
       "    </tr>\n",
       "    <tr>\n",
       "      <th>1</th>\n",
       "      <td>What was Hanover's attitude toward Austria?</td>\n",
       "      <td>True</td>\n",
       "      <td>['-belligerent Hanover']</td>\n",
       "    </tr>\n",
       "    <tr>\n",
       "      <th>2</th>\n",
       "      <td>What is an example of a suffix used by Old Eng...</td>\n",
       "      <td>True</td>\n",
       "      <td>['-de']</td>\n",
       "    </tr>\n",
       "    <tr>\n",
       "      <th>3</th>\n",
       "      <td>The Modern English ending -'s is derived from ...</td>\n",
       "      <td>True</td>\n",
       "      <td>['-es']</td>\n",
       "    </tr>\n",
       "    <tr>\n",
       "      <th>4</th>\n",
       "      <td>How are the games broadcast now?</td>\n",
       "      <td>True</td>\n",
       "      <td>[', FA Cup matches are shown live by ITV acros...</td>\n",
       "    </tr>\n",
       "  </tbody>\n",
       "</table>\n",
       "</div>"
      ],
      "text/plain": [
       "                                               query possiblity  \\\n",
       "0  If you need a date of four days less, what do ...       True   \n",
       "1        What was Hanover's attitude toward Austria?       True   \n",
       "2  What is an example of a suffix used by Old Eng...       True   \n",
       "3  The Modern English ending -'s is derived from ...       True   \n",
       "4                   How are the games broadcast now?       True   \n",
       "\n",
       "                                              Result  \n",
       "0                                             ['-4']  \n",
       "1                           ['-belligerent Hanover']  \n",
       "2                                            ['-de']  \n",
       "3                                            ['-es']  \n",
       "4  [', FA Cup matches are shown live by ITV acros...  "
      ]
     },
     "execution_count": 71,
     "metadata": {},
     "output_type": "execute_result"
    }
   ],
   "source": [
    "queries.columns=['query','possiblity','Result']\n",
    "queries.head()"
   ]
  },
  {
   "cell_type": "code",
   "execution_count": 72,
   "metadata": {},
   "outputs": [],
   "source": [
    "#Filling Null Values with \"\" in data\n",
    "paragraphs = [str(paragraph) if paragraph is not np.nan else \"\" for paragraph in paragraphs]\n",
    "queries['query'] = queries['query'].fillna(\"\")\n"
   ]
  },
  {
   "cell_type": "code",
   "execution_count": 73,
   "metadata": {},
   "outputs": [],
   "source": [
    "vectorizer = TfidfVectorizer(stop_words='english')\n",
    "X = vectorizer.fit_transform(paragraphs)#Tokenizing Paragraphs"
   ]
  },
  {
   "cell_type": "code",
   "execution_count": 74,
   "metadata": {},
   "outputs": [
    {
     "name": "stderr",
     "output_type": "stream",
     "text": [
      "No model was supplied, defaulted to distilbert/distilbert-base-cased-distilled-squad and revision 626af31 (https://huggingface.co/distilbert/distilbert-base-cased-distilled-squad).\n",
      "Using a pipeline without specifying a model name and revision in production is not recommended.\n",
      "C:\\Users\\hardi\\AppData\\Local\\Packages\\PythonSoftwareFoundation.Python.3.12_qbz5n2kfra8p0\\LocalCache\\local-packages\\Python312\\site-packages\\huggingface_hub\\file_download.py:1132: FutureWarning: `resume_download` is deprecated and will be removed in version 1.0.0. Downloads always resume when possible. If you want to force a new download, use `force_download=True`.\n",
      "  warnings.warn(\n"
     ]
    }
   ],
   "source": [
    "qa_pipeline = pipeline(\"question-answering\")"
   ]
  },
  {
   "cell_type": "code",
   "execution_count": 75,
   "metadata": {},
   "outputs": [],
   "source": [
    "def similar_paras(query):\n",
    "    query_ = vectorizer.transform([query])#converting the query to vector form\n",
    "    similarity = cosine_similarity(query_, X).flatten()#calculating similarity b/w query vector and the paragraphs vector\n",
    "    indexes = similarity.argsort()[-5:][::-1] #Extracting indexes of the 5 most similar paragraphs to the query\n",
    "    return [(paragraphs[i], similarity[i]) for i in indexes]"
   ]
  },
  {
   "cell_type": "code",
   "execution_count": 76,
   "metadata": {},
   "outputs": [],
   "source": [
    "def get_answer(query, paragraph):\n",
    "    result = qa_pipeline(question=query, context=paragraph)\n",
    "    return result['answer'], result['score']\n"
   ]
  },
  {
   "cell_type": "code",
   "execution_count": 77,
   "metadata": {},
   "outputs": [],
   "source": [
    "def ans_from_query(query):\n",
    "    similar_paragraphs = similar_paras(query)\n",
    "    answer_found = False\n",
    "    # answer=\"None\"\n",
    "    for para, similarity in similar_paragraphs:\n",
    "        answer, score = get_answer(query, para)\n",
    "        if score > 0.5:\n",
    "            print(answer)\n",
    "            return {'query': query, 'paragraph': para, 'answer': answer}\n",
    "    return {'query': query, 'paragraph': None, 'answer':'NONE'}"
   ]
  },
  {
   "cell_type": "code",
   "execution_count": 80,
   "metadata": {},
   "outputs": [],
   "source": [
    "# # print(ans_from_query(\"How are the games broadcast now?\"))\n",
    "\n",
    "# for query in queries['query']:\n",
    "#     result=ans_from_query(query)"
   ]
  },
  {
   "cell_type": "code",
   "execution_count": 79,
   "metadata": {},
   "outputs": [
    {
     "name": "stdout",
     "output_type": "stream",
     "text": [
      "Running on local URL:  http://127.0.0.1:7871\n",
      "\n",
      "To create a public link, set `share=True` in `launch()`.\n"
     ]
    },
    {
     "data": {
      "text/html": [
       "<div><iframe src=\"http://127.0.0.1:7871/\" width=\"100%\" height=\"500\" allow=\"autoplay; camera; microphone; clipboard-read; clipboard-write;\" frameborder=\"0\" allowfullscreen></iframe></div>"
      ],
      "text/plain": [
       "<IPython.core.display.HTML object>"
      ]
     },
     "metadata": {},
     "output_type": "display_data"
    },
    {
     "data": {
      "text/plain": []
     },
     "execution_count": 79,
     "metadata": {},
     "output_type": "execute_result"
    }
   ],
   "source": [
    "def predict_gen(Query):\n",
    "    Result=ans_from_query(Query)\n",
    "    return Result['answer']\n",
    "interface= gr.Interface(fn=predict_gen,inputs=\"text\",outputs=\"text\")\n",
    "interface.launch()"
   ]
  }
 ],
 "metadata": {
  "kernelspec": {
   "display_name": "Python 3",
   "language": "python",
   "name": "python3"
  },
  "language_info": {
   "codemirror_mode": {
    "name": "ipython",
    "version": 3
   },
   "file_extension": ".py",
   "mimetype": "text/x-python",
   "name": "python",
   "nbconvert_exporter": "python",
   "pygments_lexer": "ipython3",
   "version": "3.12.3"
  }
 },
 "nbformat": 4,
 "nbformat_minor": 2
}
